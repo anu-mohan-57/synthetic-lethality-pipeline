{
  "nbformat": 4,
  "nbformat_minor": 0,
  "metadata": {
    "colab": {
      "provenance": []
    },
    "kernelspec": {
      "name": "python3",
      "display_name": "Python 3"
    },
    "language_info": {
      "name": "python"
    }
  },
  "cells": [
    {
      "cell_type": "code",
      "execution_count": null,
      "metadata": {
        "id": "EWs3G55xNk9a"
      },
      "outputs": [],
      "source": [
        "import pandas as pd\n",
        "import numpy as np"
      ]
    },
    {
      "cell_type": "code",
      "source": [
        "expression_file = \"/home/user-kp/anugreha/SL_cancer/K-562/hepatocyte_expression_matrix.csv\"\n",
        "gene_list_file = \"/home/user-kp/anugreha/SL_cancer/K-562/gene_symbols_k562.csv\"\n",
        "output_csv = \"/home/user-kp/anugreha/SL_cancer/matrices/hepatocyte_matrix.csv\"\n",
        "threshold = 0  # Expression ≤ 0 → absent, > 0 → present\n",
        "\n",
        "print(\"Loading gene list...\")\n",
        "gene_list = pd.read_csv(gene_list_file)['Gene'].tolist()\n",
        "\n",
        "print(\"Loading expression matrix...\")\n",
        "expression_df = pd.read_csv(expression_file).set_index('Gene')\n",
        "\n",
        "# Find overlapping genes\n",
        "valid_genes = sorted(list(set(gene_list) & set(expression_df.index)))\n",
        "print(f\"Found {len(valid_genes)} overlapping genes: {valid_genes}\")\n",
        "\n",
        "filtered_df = expression_df.loc[valid_genes]\n",
        "\n",
        "binary_present = (filtered_df > threshold).astype(int)  # 1=present, 0=absent\n",
        "binary_absent = 1 - binary_present  # Flip to 0=present, 1=absent\n",
        "\n",
        "#print(\"\\nBinary absent matrix (1=absent, 0=present):\")\n",
        "#print(binary_absent)\n",
        "\n",
        "co_absence_matrix = binary_absent.dot(binary_absent.T)  # Genes × Genes\n",
        "\n",
        "co_absence_matrix.to_csv(output_csv)\n",
        "print(f\"\\nSaved dense matrix to: {output_csv}\")"
      ],
      "metadata": {
        "id": "8bmxtyrlPg-M"
      },
      "execution_count": null,
      "outputs": []
    },
    {
      "cell_type": "code",
      "source": [
        "df = pd.read_csv('/home/user-kp/anugreha/SL_cancer/matrices/hepatocyte_matrix.csv')\n",
        "shape = df.shape\n",
        "\n",
        "print(f\"The shape of the matrix is: {shape}\")\n"
      ],
      "metadata": {
        "id": "tpy0h40UPktq"
      },
      "execution_count": null,
      "outputs": []
    },
    {
      "cell_type": "markdown",
      "source": [
        "potential SL"
      ],
      "metadata": {
        "id": "8hs9LfRZPp3z"
      }
    },
    {
      "cell_type": "code",
      "source": [
        "output_csv = \"/home/user-kp/anugreha/SL_cancer/matrices/hepatocyte_matrix.csv\"\n",
        "co_absence_matrix = pd.read_csv(output_csv, index_col=0)\n",
        "matrix = co_absence_matrix.values\n",
        "\n",
        "max_count = np.max(matrix)\n",
        "print(f\"Highest count in the matrix: {max_count}\")\n",
        "\n",
        "upper_tri_indices = np.triu_indices_from(matrix, k=1)\n",
        "upper_tri_values = matrix[upper_tri_indices]\n",
        "\n",
        "zero_count = np.sum(upper_tri_values == 0)\n",
        "print(f\"Number of zeros in the upper triangular (excluding diagonal): {zero_count}\")\n",
        "\n",
        "n = matrix.shape[0]  # Number of genes\n",
        "total_pairs = n * (n - 1) // 2  # Upper triangular pairs excluding diagonal\n",
        "percentage_zeros = (zero_count / total_pairs) * 100\n",
        "\n",
        "print(f\"Total genes (n): {n}\")\n",
        "print(f\"Total possible gene pairs (upper triangular, excluding diagonal): {total_pairs}\")\n",
        "print(f\"Percentage of zeros: {percentage_zeros:.2f}%\")"
      ],
      "metadata": {
        "id": "5NZnaMjOPpne"
      },
      "execution_count": null,
      "outputs": []
    },
    {
      "cell_type": "code",
      "source": [
        "input_matrix = \"/home/user-kp/anugreha/SL_cancer/matrices/hepatocyte_matrix.csv\"\n",
        "output_file = \"/home/user-kp/anugreha/SL_cancer/potential_SL/hepatocyte.csv\"\n",
        "\n",
        "co_absence_matrix = pd.read_csv(input_matrix, index_col=0)\n",
        "matrix = co_absence_matrix.values\n",
        "gene_names = co_absence_matrix.index.tolist()\n",
        "\n",
        "upper_tri_indices = np.triu_indices_from(matrix, k=1)\n",
        "\n",
        "zero_pairs = []\n",
        "for i, j in zip(upper_tri_indices[0], upper_tri_indices[1]):\n",
        "    if matrix[i, j] == 0:\n",
        "        zero_pairs.append((gene_names[i], gene_names[j]))\n",
        "\n",
        "zero_pairs_df = pd.DataFrame(zero_pairs, columns=['Gene1', 'Gene2'])\n",
        "zero_pairs_df.to_csv(output_file, index=False)\n",
        "print(f\"Found {len(zero_pairs)} zero-count gene pairs.\")\n",
        "print(f\"Total genes: {len(gene_names)}\")\n",
        "print(f\"Total possible gene pairs (upper triangular): {len(zero_pairs_df)}\")\n",
        "print(f\"Saved {len(zero_pairs)} zero-count gene pairs to: {output_file}\")"
      ],
      "metadata": {
        "id": "fuFpHKFIPuZ-"
      },
      "execution_count": null,
      "outputs": []
    }
  ]
}